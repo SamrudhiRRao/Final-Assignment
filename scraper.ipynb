{
 "cells": [
  {
   "cell_type": "code",
   "execution_count": 15,
   "metadata": {},
   "outputs": [],
   "source": [
    "import bs4 as bs\n",
    "import lxml\n",
    "import urllib.request\n",
    "import csv\n",
    "\n",
    "sauce=urllib.request.urlopen('https://karki23.github.io/Weather-Data/assignment.html').read()\n",
    "srccode=bs.BeautifulSoup(sauce,'lxml')"
   ]
  },
  {
   "cell_type": "code",
   "execution_count": 16,
   "metadata": {},
   "outputs": [],
   "source": [
    "cityname=[]\n",
    "for i in srccode.find_all('a'):\n",
    "    cityname.append(i.get('href'))"
   ]
  },
  {
   "cell_type": "code",
   "execution_count": 20,
   "metadata": {},
   "outputs": [],
   "source": [
    "tabledata= []\n",
    "for x in cityname:\n",
    "    sauce1=urllib.request.urlopen('https://karki23.github.io/Weather-Data/'+x).read()\n",
    "    srccode1=bs.BeautifulSoup(sauce1,'lxml')\n",
    "    table=srccode1.find_all('table')\n",
    "    th=srccode1.find_all('th')\n",
    "    head=[x.text for x in th]\n",
    "    \n",
    "    \n",
    "    \n",
    "    #rowdata=[]\n",
    "    for row in table:\n",
    "        tr=row.find_all('tr')\n",
    "        #tabledata=[]\n",
    "        for content in tr:\n",
    "            td=content.find_all('td')\n",
    "            row_data=[x.text for x in td]\n",
    "            tabledata.append(row_data)\n",
    "    \n",
    "    \n",
    "    \n",
    "    with open(\"Weather.csv\",\"w\") as writefile:\n",
    "        write=csv.writer(writefile)\n",
    "        write.writerow(head)\n",
    "    with open(\"Weather.csv\",\"a+\") as writefile:\n",
    "        for k in tabledata:\n",
    "            write=csv.writer(writefile)\n",
    "            write.writerow(k)\n",
    "            \n",
    "    \n",
    "            \n",
    "            \n",
    "    \n",
    "            "
   ]
  },
  {
   "cell_type": "code",
   "execution_count": null,
   "metadata": {},
   "outputs": [],
   "source": []
  }
 ],
 "metadata": {
  "kernelspec": {
   "display_name": "Python 3",
   "language": "python",
   "name": "python3"
  },
  "language_info": {
   "codemirror_mode": {
    "name": "ipython",
    "version": 3
   },
   "file_extension": ".py",
   "mimetype": "text/x-python",
   "name": "python",
   "nbconvert_exporter": "python",
   "pygments_lexer": "ipython3",
   "version": "3.6.8"
  }
 },
 "nbformat": 4,
 "nbformat_minor": 2
}
